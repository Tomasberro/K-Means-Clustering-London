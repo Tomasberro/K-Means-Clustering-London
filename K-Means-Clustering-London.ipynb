{
 "cells": [
  {
   "cell_type": "code",
   "execution_count": 5,
   "id": "132551c0",
   "metadata": {},
   "outputs": [
    {
     "data": {
      "text/html": [
       "<div>\n",
       "<style scoped>\n",
       "    .dataframe tbody tr th:only-of-type {\n",
       "        vertical-align: middle;\n",
       "    }\n",
       "\n",
       "    .dataframe tbody tr th {\n",
       "        vertical-align: top;\n",
       "    }\n",
       "\n",
       "    .dataframe thead th {\n",
       "        text-align: right;\n",
       "    }\n",
       "</style>\n",
       "<table border=\"1\" class=\"dataframe\">\n",
       "  <thead>\n",
       "    <tr style=\"text-align: right;\">\n",
       "      <th></th>\n",
       "      <th>V1</th>\n",
       "      <th>V2</th>\n",
       "    </tr>\n",
       "  </thead>\n",
       "  <tbody>\n",
       "    <tr>\n",
       "      <th>0</th>\n",
       "      <td>3.62160</td>\n",
       "      <td>8.6661</td>\n",
       "    </tr>\n",
       "    <tr>\n",
       "      <th>1</th>\n",
       "      <td>4.54590</td>\n",
       "      <td>8.1674</td>\n",
       "    </tr>\n",
       "    <tr>\n",
       "      <th>2</th>\n",
       "      <td>3.86600</td>\n",
       "      <td>-2.6383</td>\n",
       "    </tr>\n",
       "    <tr>\n",
       "      <th>3</th>\n",
       "      <td>3.45660</td>\n",
       "      <td>9.5228</td>\n",
       "    </tr>\n",
       "    <tr>\n",
       "      <th>4</th>\n",
       "      <td>0.32924</td>\n",
       "      <td>-4.4552</td>\n",
       "    </tr>\n",
       "    <tr>\n",
       "      <th>5</th>\n",
       "      <td>4.36840</td>\n",
       "      <td>9.6718</td>\n",
       "    </tr>\n",
       "    <tr>\n",
       "      <th>6</th>\n",
       "      <td>3.59120</td>\n",
       "      <td>3.0129</td>\n",
       "    </tr>\n",
       "    <tr>\n",
       "      <th>7</th>\n",
       "      <td>2.09220</td>\n",
       "      <td>-6.8100</td>\n",
       "    </tr>\n",
       "    <tr>\n",
       "      <th>8</th>\n",
       "      <td>3.20320</td>\n",
       "      <td>5.7588</td>\n",
       "    </tr>\n",
       "    <tr>\n",
       "      <th>9</th>\n",
       "      <td>1.53560</td>\n",
       "      <td>9.1772</td>\n",
       "    </tr>\n",
       "  </tbody>\n",
       "</table>\n",
       "</div>"
      ],
      "text/plain": [
       "        V1      V2\n",
       "0  3.62160  8.6661\n",
       "1  4.54590  8.1674\n",
       "2  3.86600 -2.6383\n",
       "3  3.45660  9.5228\n",
       "4  0.32924 -4.4552\n",
       "5  4.36840  9.6718\n",
       "6  3.59120  3.0129\n",
       "7  2.09220 -6.8100\n",
       "8  3.20320  5.7588\n",
       "9  1.53560  9.1772"
      ]
     },
     "execution_count": 5,
     "metadata": {},
     "output_type": "execute_result"
    }
   ],
   "source": [
    "import pandas as pd\n",
    "data = pd.read_csv('bankNote.csv')\n",
    "data.head(10)"
   ]
  },
  {
   "cell_type": "code",
   "execution_count": 6,
   "id": "f039d06a",
   "metadata": {},
   "outputs": [
    {
     "name": "stdout",
     "output_type": "stream",
     "text": [
      "-7.0421\n",
      "6.8248\n",
      "-13.7731\n",
      "12.9516\n"
     ]
    }
   ],
   "source": [
    "variance = data['V1']\n",
    "skewness = data ['V2' ]\n",
    "print(variance.min())\n",
    "print(variance.max())\n",
    "print(skewness.min())\n",
    "print(skewness.max())"
   ]
  },
  {
   "cell_type": "code",
   "execution_count": 7,
   "id": "4af92243",
   "metadata": {},
   "outputs": [
    {
     "name": "stdout",
     "output_type": "stream",
     "text": [
      "<class 'pandas.core.frame.DataFrame'>\n",
      "RangeIndex: 1372 entries, 0 to 1371\n",
      "Data columns (total 2 columns):\n",
      " #   Column  Non-Null Count  Dtype  \n",
      "---  ------  --------------  -----  \n",
      " 0   V1      1372 non-null   float64\n",
      " 1   V2      1372 non-null   float64\n",
      "dtypes: float64(2)\n",
      "memory usage: 21.6 KB\n"
     ]
    },
    {
     "data": {
      "text/html": [
       "<div>\n",
       "<style scoped>\n",
       "    .dataframe tbody tr th:only-of-type {\n",
       "        vertical-align: middle;\n",
       "    }\n",
       "\n",
       "    .dataframe tbody tr th {\n",
       "        vertical-align: top;\n",
       "    }\n",
       "\n",
       "    .dataframe thead th {\n",
       "        text-align: right;\n",
       "    }\n",
       "</style>\n",
       "<table border=\"1\" class=\"dataframe\">\n",
       "  <thead>\n",
       "    <tr style=\"text-align: right;\">\n",
       "      <th></th>\n",
       "      <th>V1</th>\n",
       "      <th>V2</th>\n",
       "    </tr>\n",
       "  </thead>\n",
       "  <tbody>\n",
       "    <tr>\n",
       "      <th>count</th>\n",
       "      <td>1372.000000</td>\n",
       "      <td>1372.000000</td>\n",
       "    </tr>\n",
       "    <tr>\n",
       "      <th>mean</th>\n",
       "      <td>0.433735</td>\n",
       "      <td>1.922353</td>\n",
       "    </tr>\n",
       "    <tr>\n",
       "      <th>std</th>\n",
       "      <td>2.842763</td>\n",
       "      <td>5.869047</td>\n",
       "    </tr>\n",
       "    <tr>\n",
       "      <th>min</th>\n",
       "      <td>-7.042100</td>\n",
       "      <td>-13.773100</td>\n",
       "    </tr>\n",
       "    <tr>\n",
       "      <th>25%</th>\n",
       "      <td>-1.773000</td>\n",
       "      <td>-1.708200</td>\n",
       "    </tr>\n",
       "    <tr>\n",
       "      <th>50%</th>\n",
       "      <td>0.496180</td>\n",
       "      <td>2.319650</td>\n",
       "    </tr>\n",
       "    <tr>\n",
       "      <th>75%</th>\n",
       "      <td>2.821475</td>\n",
       "      <td>6.814625</td>\n",
       "    </tr>\n",
       "    <tr>\n",
       "      <th>max</th>\n",
       "      <td>6.824800</td>\n",
       "      <td>12.951600</td>\n",
       "    </tr>\n",
       "  </tbody>\n",
       "</table>\n",
       "</div>"
      ],
      "text/plain": [
       "                V1           V2\n",
       "count  1372.000000  1372.000000\n",
       "mean      0.433735     1.922353\n",
       "std       2.842763     5.869047\n",
       "min      -7.042100   -13.773100\n",
       "25%      -1.773000    -1.708200\n",
       "50%       0.496180     2.319650\n",
       "75%       2.821475     6.814625\n",
       "max       6.824800    12.951600"
      ]
     },
     "execution_count": 7,
     "metadata": {},
     "output_type": "execute_result"
    }
   ],
   "source": [
    "data.shape # qué tamaño tienen los datos?\n",
    "data.columns # que columnas tienen los datos?\n",
    "data.info() # hay valores nulos en los datos?\n",
    "data.describe () # como se distribuyen las variables numéricas"
   ]
  },
  {
   "cell_type": "code",
   "execution_count": 8,
   "id": "c039fd29",
   "metadata": {},
   "outputs": [],
   "source": [
    "# size = 1372\n",
    "# features = V1 and V2\n",
    "# datatypes = Numbers\n",
    "# values - float "
   ]
  },
  {
   "cell_type": "code",
   "execution_count": 9,
   "id": "e0f16058",
   "metadata": {},
   "outputs": [
    {
     "name": "stdout",
     "output_type": "stream",
     "text": [
      "0.43373525728862977 1.9223531209912554\n",
      "2.8417264052060993 5.866907488271995\n"
     ]
    }
   ],
   "source": [
    "import numpy as np\n",
    "\n",
    "varianceMean = np.mean(variance) \n",
    "skewnessMean = np.mean(skewness)\n",
    "varianceStd = np.std(variance)\n",
    "skewnessStd = np.std(skewness)\n",
    "print(varianceMean, skewnessMean)\n",
    "print(varianceStd, skewnessStd)"
   ]
  },
  {
   "cell_type": "code",
   "execution_count": 10,
   "id": "a91a256a",
   "metadata": {},
   "outputs": [
    {
     "name": "stdout",
     "output_type": "stream",
     "text": [
      "-5.683452810412199\n",
      "         V1        V2\n",
      "20   5.7867   7.89020\n",
      "28   6.5633   9.81870\n",
      "57   5.8070   5.00970\n",
      "199  5.8862   5.87470\n",
      "215  6.0919   2.96730\n",
      "316  5.7353   5.28080\n",
      "364  5.7823   5.57880\n",
      "464  5.7403  -0.44284\n",
      "513  5.9374   6.16640\n",
      "515  5.8782   5.94090\n",
      "530  5.7227   5.83120\n",
      "607  5.7456  10.18080\n",
      "634  6.8248   5.21870\n",
      "690  5.8519   5.39050\n",
      "          V1      V2\n",
      "776  -5.9034  6.5679\n",
      "806  -6.2003  8.6806\n",
      "837  -6.2815  6.6651\n",
      "859  -5.8730  9.1752\n",
      "867  -6.5084  8.7696\n",
      "928  -6.1536  7.9295\n",
      "959  -6.3979  6.4479\n",
      "981  -6.0598  9.2952\n",
      "989  -6.7526  8.8172\n",
      "1050 -5.8818  7.6584\n",
      "1111 -6.3679  8.0102\n",
      "1142 -6.5773  6.8017\n",
      "1164 -6.3364  9.2848\n",
      "1172 -6.9599  8.9931\n",
      "1203 -6.7387  6.9879\n",
      "1225 -6.5235  9.6014\n",
      "1233 -7.0421  9.2000\n",
      "1264 -6.6510  6.7934\n",
      "1286 -6.4247  9.5311\n",
      "1294 -7.0364  9.2931\n",
      "1355 -6.1632  8.7096\n"
     ]
    }
   ],
   "source": [
    "limitVar = varianceStd * 2\n",
    "limitNegVar = limitVar * -1\n",
    "print(limitNegVar)\n",
    "outlierVar = data[variance> limitVar]\n",
    "outlierNegVar = data[variance< limitNegVar]\n",
    "print( outlierVar)\n",
    "print(outlierNegVar)"
   ]
  },
  {
   "cell_type": "code",
   "execution_count": 11,
   "id": "c34bfc9f",
   "metadata": {},
   "outputs": [
    {
     "name": "stdout",
     "output_type": "stream",
     "text": [
      "-11.73381497654399\n",
      "         V1       V2\n",
      "126 -2.3430  12.9516\n",
      "151 -1.7599  11.9211\n",
      "168 -1.8030  11.8818\n",
      "184 -1.7559  11.9459\n",
      "194 -2.3410  12.3784\n",
      "220 -2.2261  12.5398\n",
      "231 -2.3361  11.9604\n",
      "291 -2.2153  11.9625\n",
      "394 -2.2623  12.1177\n",
      "420 -2.4840  12.1611\n",
      "465 -2.6989  12.1984\n",
      "516 -2.3983  12.6060\n",
      "529 -1.3885  12.5026\n",
      "562 -2.4604  12.7302\n",
      "581 -1.9667  11.8052\n",
      "606 -1.4275  11.8797\n",
      "740 -2.4473  12.6247\n",
      "          V1       V2\n",
      "765  -3.8483 -12.8047\n",
      "780  -3.5801 -12.9309\n",
      "820  -4.0025 -13.4979\n",
      "826  -4.2110 -12.4736\n",
      "841  -3.8858 -12.8461\n",
      "881  -4.4861 -13.2889\n",
      "887  -3.2692 -12.7406\n",
      "902  -2.8957 -12.0205\n",
      "942  -3.3793 -13.7731\n",
      "948  -3.4917 -12.1736\n",
      "963  -3.3863 -12.9889\n",
      "1003 -3.8203 -13.0551\n",
      "1009 -3.5713 -12.4922\n",
      "1024 -3.0061 -12.2377\n",
      "1064 -3.6961 -13.6779\n",
      "1070 -3.1423 -13.0365\n",
      "1085 -2.6649 -12.8130\n",
      "1125 -3.5985 -13.6593\n",
      "1131 -4.0214 -12.8006\n",
      "1146 -3.7300 -12.9723\n",
      "1186 -4.2440 -13.0634\n",
      "1192 -4.4018 -12.9371\n",
      "1207 -3.7930 -12.7095\n",
      "1247 -4.4775 -13.0303\n",
      "1253 -4.5531 -12.5854\n",
      "1268 -3.9411 -12.8792\n",
      "1308 -4.6338 -12.7509\n",
      "1314 -3.5060 -12.5667\n",
      "1329 -2.9672 -13.2869\n",
      "1369 -3.7503 -13.4586\n"
     ]
    }
   ],
   "source": [
    "limitSkew = skewnessStd * 2\n",
    "limitNeg = limitSkew * -1\n",
    "print(limitNeg)\n",
    "outlierSkew = data[ skewness> limitSkew] \n",
    "outlierNeg = data[skewness< limitNeg]\n",
    "print( outlierSkew)\n",
    "print(outlierNeg)"
   ]
  },
  {
   "cell_type": "code",
   "execution_count": 12,
   "id": "4b1efe10",
   "metadata": {},
   "outputs": [
    {
     "name": "stdout",
     "output_type": "stream",
     "text": [
      "[0.32924, 0.3292, -0.38214, -0.24811, -0.2062, -0.006892, 0.49665, 0.12326, 0.049175, 0.24835, 0.4339, -0.2062, 0.17346, 0.11739, 0.19081, -0.13144, -0.11783, -0.16735, -0.36038, 0.46901, 0.3798, -0.016103, 0.20977, 0.3223, 0.44125, 0.051979, 0.3292, 0.27451, 0.3292, -0.16108, 0.3292, -0.21661, -0.36279, -0.39816, 0.3798, 0.14783, -0.062025, -0.12196, 0.3798, 0.1848, 0.39559, 0.3798, 0.007125, -0.12624, -0.048008, -0.2951, 0.33111, 0.045304, -0.10648, -0.33729, 0.32444, 0.33565, -0.27802, -0.2361, -0.2062, -0.278, 0.38251, -0.38388, 0.21084, -0.278, -0.11996, -0.048008, -0.16682, 0.29961, 0.25035, 0.49571, -0.45062, 0.040498, 0.37984, -0.023579, 0.38478, 0.01727, 0.39012, 0.3434, -0.36506, -0.3481, 0.47368, -0.47465, -0.28015, 0.24394, -0.4294, -0.39416, 0.009661, 0.24261, 0.25943, 0.20216, 0.030219, 0.21431, 0.004055, -0.28696, 0.4283, -0.23356, -0.49241, 0.26517, -0.10234, 0.18868, -0.001285, -0.092194, -0.36372, -0.21394, 0.48797, 0.00312, -0.46651, -0.036127, -0.17296, 0.14329, -0.40804, 0.11806, 0.11686, 0.16358, 0.27331, -0.014902, -0.30432, -0.11716, 0.31803, -0.41965, 0.37637, -0.37013, 0.12126, -0.27068, -0.1269, -0.40857, -0.29858, -0.49948, 0.26637, -0.40951, -0.41645, -0.49081, -0.26654, 0.33325, -0.36025, -0.3489, 0.025013, 0.30081, 0.26877, 0.23874, -0.071503, 0.15423, 0.2952, 0.11032, -0.49281, -0.025314, 0.062525, -0.24037, 0.22432, 0.2346, -0.21888, 0.11592, 0.066129, -0.24745, 0.40614]\n"
     ]
    }
   ],
   "source": [
    "filterVar = filter(lambda n: -0.5< n < 0.5 , data['V1'])\n",
    "print(list(filterVar))"
   ]
  },
  {
   "cell_type": "code",
   "execution_count": 13,
   "id": "0aeec83d",
   "metadata": {},
   "outputs": [
    {
     "name": "stdout",
     "output_type": "stream",
     "text": [
      "[-0.17797, 0.44696, 0.49248, -0.49871, 0.22761, -0.34765, -0.1759, 0.21313, -0.0248, -0.08485, -0.0248, -0.033118, 0.48213, -0.070365, 0.13863, -0.16555, -0.46146, -9e-06, 0.23175, 0.46972, 0.070346, 0.039307, 0.35798, -0.15521, 0.46351, 0.45937, -0.15314, -0.14693, -0.44284, 0.23175, -0.0248, 0.27727, -0.35799, -0.053811, 0.33521, -0.25246, 0.40143, 0.43661, -0.4449, -0.031048, -0.024841, 0.46351, -0.0248, 0.36625, 0.32694, 0.091039, 0.008268, 0.23589, 0.40971, -0.14279, -0.30626, 0.12415, -0.091058, -0.38696, -0.30005, 0.45523, 0.47799, -0.062088, -0.010356, -0.14693, -0.10554, -0.020702, 0.039307, -0.24832, -0.16762, 0.42212, 0.10139, 0.3766, -0.32696, 0.25244, -0.23798, -0.05588, 0.13863, -0.48422, 0.39315, -0.23591, 0.20692, 0.29176, 0.31245, 0.14277, 0.31038, 0.39108, -0.24418, 0.18002, 0.18416, 0.22347, 0.25865, -0.097265, -0.10554, -0.15521, -0.49457, 0.32487, -0.097265, -0.02691, 0.17174, -0.14279, -0.080711, 0.039307, -0.40145, -0.033118, -0.24418, 0.45937, 0.17381, 0.30417, 0.16967, 0.13036, -0.22763, 0.084831, -0.32902, -0.43663, 0.35591, 0.11794, 0.22968, 0.12415, -0.3104, -0.38903, -0.045533, -0.17383, -0.31247, -0.099335, 0.23589, -0.3911, -0.19038]\n"
     ]
    }
   ],
   "source": [
    "filterSkew = filter(lambda n: -0.5< n < 0.5 , data['V2'])\n",
    "print(list(filterSkew))"
   ]
  },
  {
   "cell_type": "code",
   "execution_count": 15,
   "id": "7d1e4f3f",
   "metadata": {},
   "outputs": [
    {
     "data": {
      "text/plain": [
       "<matplotlib.patches.Ellipse at 0x1a10135b1c0>"
      ]
     },
     "execution_count": 15,
     "metadata": {},
     "output_type": "execute_result"
    },
    {
     "data": {
      "image/png": "[encoded data removed]",
      "text/plain": [
       "<Figure size 432x288 with 1 Axes>"
      ]
     },
     "metadata": {
      "needs_background": "light"
     },
     "output_type": "display_data"
    }
   ],
   "source": [
    "import matplotlib.pyplot as plt\n",
    "import matplotlib.patches as patches\n",
    "\n",
    "\n",
    "ellipse = patches.Ellipse([varianceMean, skewnessMean], varianceStd*2, skewnessStd*2 , alpha = 0.25)\n",
    "fig, graph = plt.subplots()\n",
    "graph.scatter(variance, skewness)\n",
    "graph.scatter (varianceMean, skewnessMean)\n",
    "graph.add_patch(ellipse)"
   ]
  },
  {
   "cell_type": "code",
   "execution_count": 18,
   "id": "31c8f5be",
   "metadata": {},
   "outputs": [
    {
     "data": {
      "text/plain": [
       "array([[-0.12411751, -3.53751287],\n",
       "       [ 0.85713121,  6.06625141]])"
      ]
     },
     "execution_count": 18,
     "metadata": {},
     "output_type": "execute_result"
    }
   ],
   "source": [
    "from sklearn.cluster import KMeans\n",
    "\n",
    "variance_skewness = np.column_stack((variance, skewness))\n",
    "# print(variance_skewness)\n",
    "km_res = KMeans( n_clusters = 2).fit(variance_skewness)\n",
    "km_res.cluster_centers_"
   ]
  },
  {
   "cell_type": "code",
   "execution_count": 19,
   "id": "a8b170db",
   "metadata": {},
   "outputs": [
    {
     "data": {
      "text/plain": [
       "<matplotlib.collections.PathCollection at 0x1a103e0c070>"
      ]
     },
     "execution_count": 19,
     "metadata": {},
     "output_type": "execute_result"
    },
    {
     "data": {
      "image/png": "[encoded data removed]",
      "text/plain": [
       "<Figure size 432x288 with 1 Axes>"
      ]
     },
     "metadata": {
      "needs_background": "light"
     },
     "output_type": "display_data"
    }
   ],
   "source": [
    "clusters = km_res.cluster_centers_\n",
    "plt.scatter(clusters[:, 0], clusters[:, 1], s=1000)\n",
    "plt.xlabel('variance')\n",
    "plt.ylabel('skewness')\n",
    "plt.scatter(variance, skewness)"
   ]
  },
  {
   "cell_type": "code",
   "execution_count": 20,
   "id": "df482f7e",
   "metadata": {},
   "outputs": [
    {
     "data": {
      "text/plain": [
       "array([[-0.12376677, -3.45591265],\n",
       "       [ 0.86960048,  6.12717909]])"
      ]
     },
     "execution_count": 20,
     "metadata": {},
     "output_type": "execute_result"
    }
   ],
   "source": [
    "variance_skewness = np.column_stack((variance, skewness))\n",
    "# print(variance_skewness)\n",
    "km_res = KMeans( n_clusters = 2).fit(variance_skewness)\n",
    "km_res.cluster_centers_"
   ]
  },
  {
   "cell_type": "code",
   "execution_count": 21,
   "id": "3d6b0884",
   "metadata": {},
   "outputs": [
    {
     "data": {
      "text/plain": [
       "<matplotlib.collections.PathCollection at 0x1a103e89190>"
      ]
     },
     "execution_count": 21,
     "metadata": {},
     "output_type": "execute_result"
    },
    {
     "data": {
      "image/png": "[encoded data removed]",
      "text/plain": [
       "<Figure size 432x288 with 1 Axes>"
      ]
     },
     "metadata": {
      "needs_background": "light"
     },
     "output_type": "display_data"
    }
   ],
   "source": [
    "clusters = km_res.cluster_centers_\n",
    "plt.scatter(clusters[:, 0], clusters[:, 1], s=1000)\n",
    "plt.xlabel('variance')\n",
    "plt.ylabel('skewness')\n",
    "plt.scatter(variance, skewness)"
   ]
  },
  {
   "cell_type": "code",
   "execution_count": 22,
   "id": "68fe6f03",
   "metadata": {},
   "outputs": [
    {
     "data": {
      "text/plain": [
       "array([[-0.11726706, -3.52998064],\n",
       "       [ 0.85317605,  6.07284596]])"
      ]
     },
     "execution_count": 22,
     "metadata": {},
     "output_type": "execute_result"
    }
   ],
   "source": [
    "variance_skewness = np.column_stack((variance, skewness))\n",
    "# print(variance_skewness)\n",
    "km_res = KMeans( n_clusters = 2).fit(variance_skewness)\n",
    "km_res.cluster_centers_"
   ]
  },
  {
   "cell_type": "code",
   "execution_count": 23,
   "id": "3eb61da2",
   "metadata": {},
   "outputs": [
    {
     "data": {
      "text/plain": [
       "<matplotlib.collections.PathCollection at 0x1a103ee7e50>"
      ]
     },
     "execution_count": 23,
     "metadata": {},
     "output_type": "execute_result"
    },
    {
     "data": {
      "image/png": "[encoded data removed]",
      "text/plain": [
       "<Figure size 432x288 with 1 Axes>"
      ]
     },
     "metadata": {
      "needs_background": "light"
     },
     "output_type": "display_data"
    }
   ],
   "source": [
    "clusters = km_res.cluster_centers_\n",
    "plt.scatter(clusters[:, 0], clusters[:, 1], s=1000)\n",
    "plt.xlabel('variance')\n",
    "plt.ylabel('skewness')\n",
    "plt.scatter(variance, skewness)"
   ]
  },
  {
   "cell_type": "code",
   "execution_count": 24,
   "id": "5fc81096",
   "metadata": {},
   "outputs": [],
   "source": [
    "# When executing the k-means algorithm three times, for example, with a cluster k = 2, the results remain\n",
    "# around 0.86 V1 and 6.12 V2 for the first cluster; -0.12, -3.45 for the second.\n",
    "# That is, one positive and the other negative, also the variance remains close to 0 in both cases, \n",
    "# but the skewness measure differs quite a bit."
   ]
  },
  {
   "cell_type": "code",
   "execution_count": 25,
   "id": "3d761eaa",
   "metadata": {},
   "outputs": [
    {
     "name": "stdout",
     "output_type": "stream",
     "text": [
      "[1 1 0 ... 0 0 0]\n"
     ]
    }
   ],
   "source": [
    "results = km_res.labels_\n",
    "print(results)"
   ]
  },
  {
   "cell_type": "code",
   "execution_count": 32,
   "id": "984fffd5",
   "metadata": {},
   "outputs": [],
   "source": [
    "dataTrue = pd.read_csv('bankNoteAllTrue.csv')\n",
    "finalResults = dataTrue['Class']\n",
    "dataTrue['predicted'] = results\n",
    "results2= dataTrue['predicted']\n",
    "dataTrue = pd.concat([dataTrue, results2])\n"
   ]
  },
  {
   "cell_type": "code",
   "execution_count": 28,
   "id": "6f5e7708",
   "metadata": {},
   "outputs": [],
   "source": [
    "actual = (dataTrue[\"Class\"] == 1).astype(int)\n",
    "Actual = list(actual)"
   ]
  },
  {
   "cell_type": "code",
   "execution_count": 37,
   "id": "6d247060",
   "metadata": {},
   "outputs": [
    {
     "name": "stdout",
     "output_type": "stream",
     "text": [
      "[True, True, False, True, False, True, True, False, True, True]\n"
     ]
    }
   ],
   "source": [
    "comparision = list(map(lambda x, y: x==y,results,Actual))\n",
    "print(comparision[0:10])"
   ]
  },
  {
   "cell_type": "code",
   "execution_count": 30,
   "id": "a5b99ec0",
   "metadata": {},
   "outputs": [
    {
     "name": "stdout",
     "output_type": "stream",
     "text": [
      "892\n"
     ]
    }
   ],
   "source": [
    "true_count = sum(comparision)\n",
    "print(true_count)"
   ]
  },
  {
   "cell_type": "code",
   "execution_count": 31,
   "id": "cc0d07ba",
   "metadata": {},
   "outputs": [
    {
     "name": "stdout",
     "output_type": "stream",
     "text": [
      "65.01457725947522\n"
     ]
    }
   ],
   "source": [
    "Accuracy = print((true_count/1372)*100)"
   ]
  },
  {
   "cell_type": "markdown",
   "id": "20aa0328",
   "metadata": {},
   "source": [
    "The obtained KMeans results were compared to the original dataset results via the \"Class\" column. In order to compare the results from the original \"Class\" classification , i have converted the 1 = true notes and 2= fake to a binary value results (0 and 1). The accuracy of the model produced compared to the original data is of circa 65%. Looking at the distribution in detail it seems that a positive skewness and variance is a key determinant of a note being real."
   ]
  },
  {
   "cell_type": "code",
   "execution_count": null,
   "id": "6be64d70",
   "metadata": {},
   "outputs": [],
   "source": []
  }
 ],
 "metadata": {
  "kernelspec": {
   "display_name": "Python 3 (ipykernel)",
   "language": "python",
   "name": "python3"
  },
  "language_info": {
   "codemirror_mode": {
    "name": "ipython",
    "version": 3
   },
   "file_extension": ".py",
   "mimetype": "text/x-python",
   "name": "python",
   "nbconvert_exporter": "python",
   "pygments_lexer": "ipython3",
   "version": "3.9.7"
  }
 },
 "nbformat": 4,
 "nbformat_minor": 5
}
